{
 "cells": [
  {
   "cell_type": "code",
   "execution_count": 26,
   "id": "4ad615ad",
   "metadata": {},
   "outputs": [],
   "source": [
    "import pandas as pd\n",
    "import numpy as np"
   ]
  },
  {
   "cell_type": "markdown",
   "id": "0e47bcf6",
   "metadata": {},
   "source": [
    "### Mini-Project 1"
   ]
  },
  {
   "cell_type": "markdown",
   "id": "37142273",
   "metadata": {},
   "source": [
    "Instructions: Collect comments from a post of your choice on reddit. \n",
    "Conduct analysis you think will be helpful in helping you understand \n",
    "how people responded to the topic"
   ]
  },
  {
   "cell_type": "code",
   "execution_count": 3,
   "id": "833d085a",
   "metadata": {},
   "outputs": [],
   "source": [
    "reddit_post_url = 'https://www.reddit.com/r/ApplyingToCollege/comments/uwye24/should_i_attend_ucsd/'"
   ]
  },
  {
   "cell_type": "code",
   "execution_count": 11,
   "id": "53ff439d",
   "metadata": {},
   "outputs": [],
   "source": [
    "resp_id = [0, 1, 2, 3, 4, 5, 6, 7]\n",
    "author = ['Johnnybala', 'throwawaygremlins', 'Odd-Swim-434', 'TheOfficialSkY45', 'OkQuiet2444', 'Ineedluck18', 'Odd-Swim-434', '[deleted]']\n",
    "resp_attr = ['Opinion', 'Opinion with Evidence', 'Opinion with Evidence', 'Opinion', 'Opinion with Evidence', 'Irrelavence Conversation', 'Irrelavence Conversation', 'Personal Anecdote']\n",
    "resp_length = [0, 0, 0, 0, 0, 0, 0, 0]\n",
    "resp_cont = ['Accept UCSD, great school. Sort out the rest as you can.', \n",
    "             '''INFO:\n",
    "\n",
    "                Cost is not a factor to go to UCSD? Then I would go.\n",
    "\n",
    "                You would eventually want to go to Physician Assistant school- am I getting that right?\n",
    "\n",
    "                You should go to UCSD, great school.''', \n",
    "             '''Cost isn't a factor because I got an amazing financial aid package and have some scholarships that cut the cost to almost nothing. Yes, it's my plan to attend Physician Assistant school after getting my bachelors.''',\n",
    "             'Yea',\n",
    "             'You’ll be able to visit your family in Glendale if you go to UCSD. Take Amtrak and it’s not that far away.',\n",
    "             'When did u get off the waitlist? Today?', \n",
    "             'I got off the waitlist on May 18th.',\n",
    "             '''I had a really hard decision deciding between GT and UCSD for CS. I ultimately decided on UCSD because it's just such a nice school. It's just large enough, but it's also not too big. The classes are not too crowded, despite being larger in size. On top of that, San Diego is just so beautiful.\n",
    "\n",
    "                To your comment about visiting family, that's pretty hard, but SD has the trolley which goes all the way up near LA. You'll definitely be able to visit them pretty often! I live in the Bay Area lol.'''\n",
    "            ]\n",
    "like = [9, 4, 3, 2, 2, 1, 3, 1]\n",
    "dislike = [0, 0, 0, 0, 0, 0, 0, 0]\n",
    "has_reply = ['No', 'Yes', 'No', 'No', 'No', 'Yes', 'No', 'No']\n",
    "resp_num = [0, 1, 0, 0, 0, 1, 0, 0]\n",
    "data = {'resp_id': resp_id, 'author': author, 'resp_attr': resp_attr, 'resp_length': resp_length, 'resp_cont': resp_cont, 'like': like, 'dislike': dislike, 'has_reply': has_reply, 'resp_num': resp_num}"
   ]
  },
  {
   "cell_type": "code",
   "execution_count": 12,
   "id": "99274d48",
   "metadata": {},
   "outputs": [],
   "source": [
    "df = pd.DataFrame(data = data, columns = ['resp_id', 'author', 'resp_attr', 'resp_length', 'resp_cont', 'like', 'dislike' 'has_reply', 'resp_num'])"
   ]
  },
  {
   "cell_type": "code",
   "execution_count": 15,
   "id": "a740fde1",
   "metadata": {},
   "outputs": [],
   "source": [
    "df.resp_length = df['resp_cont'].apply(lambda x: len(x))"
   ]
  },
  {
   "cell_type": "code",
   "execution_count": 16,
   "id": "a9346a50",
   "metadata": {},
   "outputs": [
    {
     "data": {
      "text/html": [
       "<div>\n",
       "<style scoped>\n",
       "    .dataframe tbody tr th:only-of-type {\n",
       "        vertical-align: middle;\n",
       "    }\n",
       "\n",
       "    .dataframe tbody tr th {\n",
       "        vertical-align: top;\n",
       "    }\n",
       "\n",
       "    .dataframe thead th {\n",
       "        text-align: right;\n",
       "    }\n",
       "</style>\n",
       "<table border=\"1\" class=\"dataframe\">\n",
       "  <thead>\n",
       "    <tr style=\"text-align: right;\">\n",
       "      <th></th>\n",
       "      <th>resp_id</th>\n",
       "      <th>author</th>\n",
       "      <th>resp_attr</th>\n",
       "      <th>resp_length</th>\n",
       "      <th>resp_cont</th>\n",
       "      <th>like</th>\n",
       "      <th>dislike</th>\n",
       "      <th>resp_date</th>\n",
       "      <th>has_reply</th>\n",
       "      <th>resp_num</th>\n",
       "    </tr>\n",
       "  </thead>\n",
       "  <tbody>\n",
       "    <tr>\n",
       "      <th>0</th>\n",
       "      <td>0</td>\n",
       "      <td>Johnnybala</td>\n",
       "      <td>Opinion</td>\n",
       "      <td>56</td>\n",
       "      <td>Accept UCSD, great school. Sort out the rest a...</td>\n",
       "      <td>9</td>\n",
       "      <td>0</td>\n",
       "      <td>NaN</td>\n",
       "      <td>No</td>\n",
       "      <td>0</td>\n",
       "    </tr>\n",
       "    <tr>\n",
       "      <th>1</th>\n",
       "      <td>1</td>\n",
       "      <td>throwawaygremlins</td>\n",
       "      <td>Opinion with Evidence</td>\n",
       "      <td>234</td>\n",
       "      <td>INFO:\\n\\n                Cost is not a factor ...</td>\n",
       "      <td>4</td>\n",
       "      <td>0</td>\n",
       "      <td>NaN</td>\n",
       "      <td>Yes</td>\n",
       "      <td>1</td>\n",
       "    </tr>\n",
       "    <tr>\n",
       "      <th>2</th>\n",
       "      <td>2</td>\n",
       "      <td>Odd-Swim-434</td>\n",
       "      <td>Opinion with Evidence</td>\n",
       "      <td>213</td>\n",
       "      <td>Cost isn't a factor because I got an amazing f...</td>\n",
       "      <td>3</td>\n",
       "      <td>0</td>\n",
       "      <td>NaN</td>\n",
       "      <td>No</td>\n",
       "      <td>0</td>\n",
       "    </tr>\n",
       "    <tr>\n",
       "      <th>3</th>\n",
       "      <td>3</td>\n",
       "      <td>TheOfficialSkY45</td>\n",
       "      <td>Opinion</td>\n",
       "      <td>3</td>\n",
       "      <td>Yea</td>\n",
       "      <td>2</td>\n",
       "      <td>0</td>\n",
       "      <td>NaN</td>\n",
       "      <td>No</td>\n",
       "      <td>0</td>\n",
       "    </tr>\n",
       "    <tr>\n",
       "      <th>4</th>\n",
       "      <td>4</td>\n",
       "      <td>OkQuiet2444</td>\n",
       "      <td>Opinion with Evidence</td>\n",
       "      <td>106</td>\n",
       "      <td>You’ll be able to visit your family in Glendal...</td>\n",
       "      <td>2</td>\n",
       "      <td>0</td>\n",
       "      <td>NaN</td>\n",
       "      <td>No</td>\n",
       "      <td>0</td>\n",
       "    </tr>\n",
       "    <tr>\n",
       "      <th>5</th>\n",
       "      <td>5</td>\n",
       "      <td>Ineedluck18</td>\n",
       "      <td>Irrelavence Conversation</td>\n",
       "      <td>39</td>\n",
       "      <td>When did u get off the waitlist? Today?</td>\n",
       "      <td>1</td>\n",
       "      <td>0</td>\n",
       "      <td>NaN</td>\n",
       "      <td>Yes</td>\n",
       "      <td>1</td>\n",
       "    </tr>\n",
       "    <tr>\n",
       "      <th>6</th>\n",
       "      <td>6</td>\n",
       "      <td>Odd-Swim-434</td>\n",
       "      <td>Irrelavence Conversation</td>\n",
       "      <td>35</td>\n",
       "      <td>I got off the waitlist on May 18th.</td>\n",
       "      <td>3</td>\n",
       "      <td>0</td>\n",
       "      <td>NaN</td>\n",
       "      <td>No</td>\n",
       "      <td>0</td>\n",
       "    </tr>\n",
       "    <tr>\n",
       "      <th>7</th>\n",
       "      <td>7</td>\n",
       "      <td>[deleted]</td>\n",
       "      <td>Personal Anecdote</td>\n",
       "      <td>510</td>\n",
       "      <td>I had a really hard decision deciding between ...</td>\n",
       "      <td>1</td>\n",
       "      <td>0</td>\n",
       "      <td>NaN</td>\n",
       "      <td>No</td>\n",
       "      <td>0</td>\n",
       "    </tr>\n",
       "  </tbody>\n",
       "</table>\n",
       "</div>"
      ],
      "text/plain": [
       "   resp_id             author                 resp_attr  resp_length  \\\n",
       "0        0         Johnnybala                   Opinion           56   \n",
       "1        1  throwawaygremlins     Opinion with Evidence          234   \n",
       "2        2       Odd-Swim-434     Opinion with Evidence          213   \n",
       "3        3   TheOfficialSkY45                   Opinion            3   \n",
       "4        4        OkQuiet2444     Opinion with Evidence          106   \n",
       "5        5        Ineedluck18  Irrelavence Conversation           39   \n",
       "6        6       Odd-Swim-434  Irrelavence Conversation           35   \n",
       "7        7          [deleted]         Personal Anecdote          510   \n",
       "\n",
       "                                           resp_cont  like  dislike resp_date  \\\n",
       "0  Accept UCSD, great school. Sort out the rest a...     9        0       NaN   \n",
       "1  INFO:\\n\\n                Cost is not a factor ...     4        0       NaN   \n",
       "2  Cost isn't a factor because I got an amazing f...     3        0       NaN   \n",
       "3                                                Yea     2        0       NaN   \n",
       "4  You’ll be able to visit your family in Glendal...     2        0       NaN   \n",
       "5            When did u get off the waitlist? Today?     1        0       NaN   \n",
       "6                I got off the waitlist on May 18th.     3        0       NaN   \n",
       "7  I had a really hard decision deciding between ...     1        0       NaN   \n",
       "\n",
       "  has_reply  resp_num  \n",
       "0        No         0  \n",
       "1       Yes         1  \n",
       "2        No         0  \n",
       "3        No         0  \n",
       "4        No         0  \n",
       "5       Yes         1  \n",
       "6        No         0  \n",
       "7        No         0  "
      ]
     },
     "execution_count": 16,
     "metadata": {},
     "output_type": "execute_result"
    }
   ],
   "source": [
    "df"
   ]
  },
  {
   "cell_type": "code",
   "execution_count": 18,
   "id": "62c931e8",
   "metadata": {},
   "outputs": [
    {
     "data": {
      "text/html": [
       "<div>\n",
       "<style scoped>\n",
       "    .dataframe tbody tr th:only-of-type {\n",
       "        vertical-align: middle;\n",
       "    }\n",
       "\n",
       "    .dataframe tbody tr th {\n",
       "        vertical-align: top;\n",
       "    }\n",
       "\n",
       "    .dataframe thead th {\n",
       "        text-align: right;\n",
       "    }\n",
       "</style>\n",
       "<table border=\"1\" class=\"dataframe\">\n",
       "  <thead>\n",
       "    <tr style=\"text-align: right;\">\n",
       "      <th></th>\n",
       "      <th>resp_length</th>\n",
       "      <th>like</th>\n",
       "      <th>dislike</th>\n",
       "      <th>resp_num</th>\n",
       "    </tr>\n",
       "  </thead>\n",
       "  <tbody>\n",
       "    <tr>\n",
       "      <th>count</th>\n",
       "      <td>8.000000</td>\n",
       "      <td>8.000000</td>\n",
       "      <td>8.0</td>\n",
       "      <td>8.00000</td>\n",
       "    </tr>\n",
       "    <tr>\n",
       "      <th>mean</th>\n",
       "      <td>149.500000</td>\n",
       "      <td>3.125000</td>\n",
       "      <td>0.0</td>\n",
       "      <td>0.25000</td>\n",
       "    </tr>\n",
       "    <tr>\n",
       "      <th>std</th>\n",
       "      <td>168.416999</td>\n",
       "      <td>2.587746</td>\n",
       "      <td>0.0</td>\n",
       "      <td>0.46291</td>\n",
       "    </tr>\n",
       "    <tr>\n",
       "      <th>min</th>\n",
       "      <td>3.000000</td>\n",
       "      <td>1.000000</td>\n",
       "      <td>0.0</td>\n",
       "      <td>0.00000</td>\n",
       "    </tr>\n",
       "    <tr>\n",
       "      <th>25%</th>\n",
       "      <td>38.000000</td>\n",
       "      <td>1.750000</td>\n",
       "      <td>0.0</td>\n",
       "      <td>0.00000</td>\n",
       "    </tr>\n",
       "    <tr>\n",
       "      <th>50%</th>\n",
       "      <td>81.000000</td>\n",
       "      <td>2.500000</td>\n",
       "      <td>0.0</td>\n",
       "      <td>0.00000</td>\n",
       "    </tr>\n",
       "    <tr>\n",
       "      <th>75%</th>\n",
       "      <td>218.250000</td>\n",
       "      <td>3.250000</td>\n",
       "      <td>0.0</td>\n",
       "      <td>0.25000</td>\n",
       "    </tr>\n",
       "    <tr>\n",
       "      <th>max</th>\n",
       "      <td>510.000000</td>\n",
       "      <td>9.000000</td>\n",
       "      <td>0.0</td>\n",
       "      <td>1.00000</td>\n",
       "    </tr>\n",
       "  </tbody>\n",
       "</table>\n",
       "</div>"
      ],
      "text/plain": [
       "       resp_length      like  dislike  resp_num\n",
       "count     8.000000  8.000000      8.0   8.00000\n",
       "mean    149.500000  3.125000      0.0   0.25000\n",
       "std     168.416999  2.587746      0.0   0.46291\n",
       "min       3.000000  1.000000      0.0   0.00000\n",
       "25%      38.000000  1.750000      0.0   0.00000\n",
       "50%      81.000000  2.500000      0.0   0.00000\n",
       "75%     218.250000  3.250000      0.0   0.25000\n",
       "max     510.000000  9.000000      0.0   1.00000"
      ]
     },
     "execution_count": 18,
     "metadata": {},
     "output_type": "execute_result"
    }
   ],
   "source": [
    "df[['resp_length', 'like', 'dislike', 'resp_num']].describe()"
   ]
  },
  {
   "cell_type": "code",
   "execution_count": 20,
   "id": "fd3c44df",
   "metadata": {},
   "outputs": [
    {
     "data": {
      "text/plain": [
       "<AxesSubplot:>"
      ]
     },
     "execution_count": 20,
     "metadata": {},
     "output_type": "execute_result"
    },
    {
     "data": {
      "image/png": "[encoded data removed]",
      "text/plain": [
       "<Figure size 432x288 with 1 Axes>"
      ]
     },
     "metadata": {
      "needs_background": "light"
     },
     "output_type": "display_data"
    }
   ],
   "source": [
    "df['resp_attr'].hist()"
   ]
  },
  {
   "cell_type": "code",
   "execution_count": 22,
   "id": "1655df36",
   "metadata": {},
   "outputs": [
    {
     "data": {
      "text/plain": [
       "<AxesSubplot:>"
      ]
     },
     "execution_count": 22,
     "metadata": {},
     "output_type": "execute_result"
    },
    {
     "data": {
      "image/png": "[encoded data removed]",
      "text/plain": [
       "<Figure size 432x288 with 1 Axes>"
      ]
     },
     "metadata": {
      "needs_background": "light"
     },
     "output_type": "display_data"
    }
   ],
   "source": [
    "df['resp_length'].hist()"
   ]
  },
  {
   "cell_type": "code",
   "execution_count": 36,
   "id": "5cc2fdad",
   "metadata": {},
   "outputs": [],
   "source": [
    "table = pd.pivot_table(df, values=['resp_length', 'like', 'dislike', 'resp_num'], index=['has_reply'],\n",
    "                    aggfunc={'resp_length': [min, max, np.mean, np.median, 'count'],\n",
    "                             'like': [min, max, np.mean, np.median],\n",
    "                             'dislike': [min, max, np.mean, np.median],\n",
    "                             'resp_num': [min, max, np.mean, np.median]\n",
    "                            })"
   ]
  },
  {
   "cell_type": "code",
   "execution_count": 37,
   "id": "45663f78",
   "metadata": {},
   "outputs": [
    {
     "data": {
      "text/html": [
       "<div>\n",
       "<style scoped>\n",
       "    .dataframe tbody tr th:only-of-type {\n",
       "        vertical-align: middle;\n",
       "    }\n",
       "\n",
       "    .dataframe tbody tr th {\n",
       "        vertical-align: top;\n",
       "    }\n",
       "\n",
       "    .dataframe thead tr th {\n",
       "        text-align: left;\n",
       "    }\n",
       "\n",
       "    .dataframe thead tr:last-of-type th {\n",
       "        text-align: right;\n",
       "    }\n",
       "</style>\n",
       "<table border=\"1\" class=\"dataframe\">\n",
       "  <thead>\n",
       "    <tr>\n",
       "      <th></th>\n",
       "      <th colspan=\"4\" halign=\"left\">dislike</th>\n",
       "      <th colspan=\"4\" halign=\"left\">like</th>\n",
       "      <th colspan=\"5\" halign=\"left\">resp_length</th>\n",
       "      <th colspan=\"4\" halign=\"left\">resp_num</th>\n",
       "    </tr>\n",
       "    <tr>\n",
       "      <th></th>\n",
       "      <th>max</th>\n",
       "      <th>mean</th>\n",
       "      <th>median</th>\n",
       "      <th>min</th>\n",
       "      <th>max</th>\n",
       "      <th>mean</th>\n",
       "      <th>median</th>\n",
       "      <th>min</th>\n",
       "      <th>count</th>\n",
       "      <th>max</th>\n",
       "      <th>mean</th>\n",
       "      <th>median</th>\n",
       "      <th>min</th>\n",
       "      <th>max</th>\n",
       "      <th>mean</th>\n",
       "      <th>median</th>\n",
       "      <th>min</th>\n",
       "    </tr>\n",
       "    <tr>\n",
       "      <th>has_reply</th>\n",
       "      <th></th>\n",
       "      <th></th>\n",
       "      <th></th>\n",
       "      <th></th>\n",
       "      <th></th>\n",
       "      <th></th>\n",
       "      <th></th>\n",
       "      <th></th>\n",
       "      <th></th>\n",
       "      <th></th>\n",
       "      <th></th>\n",
       "      <th></th>\n",
       "      <th></th>\n",
       "      <th></th>\n",
       "      <th></th>\n",
       "      <th></th>\n",
       "      <th></th>\n",
       "    </tr>\n",
       "  </thead>\n",
       "  <tbody>\n",
       "    <tr>\n",
       "      <th>No</th>\n",
       "      <td>0</td>\n",
       "      <td>0.0</td>\n",
       "      <td>0.0</td>\n",
       "      <td>0</td>\n",
       "      <td>9</td>\n",
       "      <td>3.333333</td>\n",
       "      <td>2.5</td>\n",
       "      <td>1</td>\n",
       "      <td>6</td>\n",
       "      <td>510</td>\n",
       "      <td>153.833333</td>\n",
       "      <td>81.0</td>\n",
       "      <td>3</td>\n",
       "      <td>0</td>\n",
       "      <td>0.0</td>\n",
       "      <td>0.0</td>\n",
       "      <td>0</td>\n",
       "    </tr>\n",
       "    <tr>\n",
       "      <th>Yes</th>\n",
       "      <td>0</td>\n",
       "      <td>0.0</td>\n",
       "      <td>0.0</td>\n",
       "      <td>0</td>\n",
       "      <td>4</td>\n",
       "      <td>2.500000</td>\n",
       "      <td>2.5</td>\n",
       "      <td>1</td>\n",
       "      <td>2</td>\n",
       "      <td>234</td>\n",
       "      <td>136.500000</td>\n",
       "      <td>136.5</td>\n",
       "      <td>39</td>\n",
       "      <td>1</td>\n",
       "      <td>1.0</td>\n",
       "      <td>1.0</td>\n",
       "      <td>1</td>\n",
       "    </tr>\n",
       "  </tbody>\n",
       "</table>\n",
       "</div>"
      ],
      "text/plain": [
       "          dislike                 like                      resp_length       \\\n",
       "              max mean median min  max      mean median min       count  max   \n",
       "has_reply                                                                      \n",
       "No              0  0.0    0.0   0    9  3.333333    2.5   1           6  510   \n",
       "Yes             0  0.0    0.0   0    4  2.500000    2.5   1           2  234   \n",
       "\n",
       "                                 resp_num                  \n",
       "                 mean median min      max mean median min  \n",
       "has_reply                                                  \n",
       "No         153.833333   81.0   3        0  0.0    0.0   0  \n",
       "Yes        136.500000  136.5  39        1  1.0    1.0   1  "
      ]
     },
     "execution_count": 37,
     "metadata": {},
     "output_type": "execute_result"
    }
   ],
   "source": [
    "table"
   ]
  },
  {
   "cell_type": "markdown",
   "id": "de165277",
   "metadata": {},
   "source": [
    "Analysis:\n",
    "There are three types of responses to the post that I selected. The first type is opinion based response which simply just includes whether or not the respondent thinks the person should go to UCSD. There lacks supporting evidence or reasons to back up the opinions. The second type is engaging response with supporting arguments. The response not only includes an opinion but also contains the reasons why the respondent believes it is a good or not a good choice to attend UCSD. The third kind of response is irrelevant conversation that diverges from the topic. For example, people started to ask questions like “When did you get off the waitlist?” or about their own personal experiences that has little relevance to the topic. However, the second type of responses seem to have the highest response rate among the three. More people seem to engage in the conversation if there is supporting evidence or fact.\n"
   ]
  },
  {
   "cell_type": "markdown",
   "id": "7cac595d",
   "metadata": {},
   "source": [
    "### Mini-Project 2"
   ]
  },
  {
   "cell_type": "markdown",
   "id": "2150acd2",
   "metadata": {},
   "source": [
    "Mini Project 2\n",
    "Instructions: Develop of a list of rules or tasks people can follow to determine the legitimacy of information they find online. Please also keep a list of the references you used to create the list\n",
    "\n",
    "1.\tSource/Author Reputation\n",
    "2.\tWhen is the information published?\n",
    "3.\tDid the information contain fact and evidence? Or is it just simple opinion?\n",
    "4.\tDid other posts have similar information? Did it line up with other posts?\n",
    "5.\tAre there any spelling or grammar errors?\n",
    "6.\tWhat is the purpose of the information? Is it to inform or persuade?\n",
    "7.\tAny potential bias?\n",
    "8.\tMisleading title?\n",
    "\n",
    "Source: https://www.uow.edu.au/student/learning-co-op/finding-and-using-information/evaluating-the-quality-of-online-information/\n",
    "\n",
    "https://www.colorado.edu/faculty/lehmantamara/sites/default/files/attached-files/crv-asonam-2020_paper_150.pdf\n"
   ]
  },
  {
   "cell_type": "code",
   "execution_count": null,
   "id": "64056624",
   "metadata": {},
   "outputs": [],
   "source": []
  },
  {
   "cell_type": "code",
   "execution_count": null,
   "id": "666e334a",
   "metadata": {},
   "outputs": [],
   "source": []
  },
  {
   "cell_type": "code",
   "execution_count": null,
   "id": "29010efa",
   "metadata": {},
   "outputs": [],
   "source": []
  },
  {
   "cell_type": "code",
   "execution_count": null,
   "id": "623ec08a",
   "metadata": {},
   "outputs": [],
   "source": []
  },
  {
   "cell_type": "code",
   "execution_count": null,
   "id": "358f3a74",
   "metadata": {},
   "outputs": [],
   "source": []
  },
  {
   "cell_type": "code",
   "execution_count": null,
   "id": "5a87c154",
   "metadata": {},
   "outputs": [],
   "source": []
  }
 ],
 "metadata": {
  "kernelspec": {
   "display_name": "Python 3",
   "language": "python",
   "name": "python3"
  },
  "language_info": {
   "codemirror_mode": {
    "name": "ipython",
    "version": 3
   },
   "file_extension": ".py",
   "mimetype": "text/x-python",
   "name": "python",
   "nbconvert_exporter": "python",
   "pygments_lexer": "ipython3",
   "version": "3.8.8"
  }
 },
 "nbformat": 4,
 "nbformat_minor": 5
}
